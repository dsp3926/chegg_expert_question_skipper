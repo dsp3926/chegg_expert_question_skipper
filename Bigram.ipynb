{
  "nbformat": 4,
  "nbformat_minor": 0,
  "metadata": {
    "colab": {
      "name": "Bigram",
      "provenance": [],
      "authorship_tag": "ABX9TyPVEqb78uMHrezbmDf9cX+i",
      "include_colab_link": true
    },
    "kernelspec": {
      "name": "python3",
      "display_name": "Python 3"
    },
    "language_info": {
      "name": "python"
    }
  },
  "cells": [
    {
      "cell_type": "markdown",
      "metadata": {
        "id": "view-in-github",
        "colab_type": "text"
      },
      "source": [
        "<a href=\"https://colab.research.google.com/github/dsp3926/chegg_expert_question_skipper/blob/main/Bigram.ipynb\" target=\"_parent\"><img src=\"https://colab.research.google.com/assets/colab-badge.svg\" alt=\"Open In Colab\"/></a>"
      ]
    },
    {
      "cell_type": "code",
      "metadata": {
        "colab": {
          "base_uri": "https://localhost:8080/"
        },
        "id": "z4dXtHZcsrbS",
        "outputId": "141ab5a9-ae0c-4d23-86e4-642dec3402b3"
      },
      "source": [
        "str = \"(eos) Can I sit near you (eos) You can sit (eos) Sit near him (eos) I can sit you (eos)\"\n",
        "temp = str.split(\" \")\n",
        "words = []\n",
        "for each in temp:\n",
        "  words.append(each.lower())\n",
        "\n",
        "#p(a/b)\n",
        "def bigram_probability(b, a):\n",
        "  n1 = 0\n",
        "  n2 = 0\n",
        "  for i in range(len(words)):\n",
        "      if(words[i] == b):\n",
        "        n2 +=1\n",
        "        if((i != len(words)-1) and (words[i+1] == a)):\n",
        "          n1 +=1   \n",
        "  print(n1/float(n2)) \n",
        "\n",
        "bigram_probability(\"can\",\"i\")  \n",
        "\n",
        "\n",
        "\n"
      ],
      "execution_count": null,
      "outputs": [
        {
          "output_type": "stream",
          "text": [
            "['(eos)', 'can', 'i', 'sit', 'near', 'you', '(eos)', 'you', 'can', 'sit', '(eos)', 'sit', 'near', 'him', '(eos)', 'i', 'can', 'sit', 'you', '(eos)']\n",
            "1 3\n",
            "0.3333333333333333\n"
          ],
          "name": "stdout"
        }
      ]
    }
  ]
}